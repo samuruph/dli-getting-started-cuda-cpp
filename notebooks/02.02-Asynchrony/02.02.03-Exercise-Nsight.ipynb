{
 "cells": [
  {
   "cell_type": "markdown",
   "metadata": {},
   "source": [
    "<img src=\"Images/nvidia_header.png\" style=\"margin-left: -30px; width: 300px; float: left;\">"
   ]
  },
  {
   "cell_type": "markdown",
   "metadata": {},
   "source": [
    "## Exercise: Profile Your Code with Nsight Systems\n",
    "\n",
    "In this exercise, you will learn how to profile your code with Nsight Systems. \n",
    "Nsight Systems is a system-wide performance analysis tool, designed to visualize CPU and GPU activities. The short video "
   ]
  },
  {
   "cell_type": "markdown",
   "metadata": {},
   "source": [
    "<div style=\"background-color: #e7f3fe; border-left: 6px solid #2196F3; padding: 10px; margin: 10px 0;\">\n",
    "  <strong>NOTE:</strong> There are some systems that are unable to display the Nsight Streamer due to firewalls or bandwidth limitations and its use of the WebRTC protocol. If this is your situation, you can still review the solution and images provided to see the profiling results.  To improve your bandwidth, you might try closing other applications and browser tabs on your computer or on your network.\n",
    "</div>"
   ]
  },
  {
   "cell_type": "markdown",
   "metadata": {},
   "source": [
    "To run Nsight Systems, you can use the command-line interface provided by `nsys`:"
   ]
  },
  {
   "cell_type": "code",
   "execution_count": null,
   "metadata": {},
   "outputs": [],
   "source": [
    "!nvcc --extended-lambda -o /tmp/a.out Solutions/compute-io-overlap.cu # build executable\n",
    "!nsys profile --force-overwrite true -o ../nsight-reports/compute-io-overlap /tmp/a.out # run and profile executable"
   ]
  },
  {
   "cell_type": "markdown",
   "metadata": {},
   "source": [
    "The code above stores the output in a file called `compute-io-overlap` in the `nsight-reports` directory.\n",
    "\n",
    "To view the report, launch the Nsight Streamer to view the report through the graphical user intervface (GUI). \n",
    "To do that, navigate to the \"NVIDIA Nsight\" tab and select \"Display Nsight UI via Nsight Streamer\". Click \"Ok\" in the dialog box. The Nsight Streamer will open in a new tab within JupyterLab. \n",
    "\n",
    "<img src=\"Images/connect.png\" alt=\"Connect to Nsight Tool UI\">"
   ]
  },
  {
   "cell_type": "markdown",
   "metadata": {},
   "source": [
    "You'll see a blank screen and there will be a short delay as the streamer spins up.  You'll get a login dialog: the username and password are both `nvidia`.\n",
    "\n",
    "After the Nsight Streamer connects, the GUI will open.  Open the report file that we generated earlier.  You'll find it with **File->Open** from the menu.  Then navigate to **nsight-reports**.\n",
    "\n",
    "<img src=\"Images/open.png\" alt=\"Open the report\">"
   ]
  },
  {
   "cell_type": "markdown",
   "metadata": {},
   "source": [
    "Navigate the opened report to see the timeline of your application:\n",
    "\n",
    "<img src=\"Images/navigate.png\" alt=\"Navigate the report\">\n",
    "\n",
    "The following short video also demonstrates this process."
   ]
  },
  {
   "cell_type": "code",
   "execution_count": 1,
   "metadata": {
    "jupyter": {
     "source_hidden": true
    }
   },
   "outputs": [
    {
     "data": {
      "text/html": [
       "<video controls src=\"https://d36m44n9vdbmda.cloudfront.net/assets/s-ac-04-v2/videos/020203_nsight_setup.mp4\" \n",
       "width=800>evasion</video>\n"
      ],
      "text/plain": [
       "<IPython.core.display.HTML object>"
      ]
     },
     "metadata": {},
     "output_type": "display_data"
    }
   ],
   "source": [
    "%%html\n",
    "<video controls src=\"https://d36m44n9vdbmda.cloudfront.net/assets/s-ac-04-v2/videos/020203_nsight_setup.mp4\" \n",
    "width=800>evasion</video>"
   ]
  },
  {
   "cell_type": "markdown",
   "metadata": {},
   "source": [
    "For the exercise, your task is to navigate the report and identify:\n",
    "- when GPU compute is launched\n",
    "- when CPU writes data on disk\n",
    "- when CPU waits for GPU\n",
    "- when data is transferred between CPU and GPU"
   ]
  },
  {
   "cell_type": "markdown",
   "metadata": {},
   "source": [
    "If you’re unsure how to proceed, consider expanding this section for guidance. Use the hint only after giving the problem a genuine attempt.\n",
    "\n",
    "<details>\n",
    "  <summary>Hints</summary>\n",
    "  \n",
    "  - Try unfolding \"CUDA HW\" section to see more detail on what is happening on the GPU\n",
    "  - Memory transfers between CPU and GPU will be under \"CUDA HW / Memory\" section\n",
    "  - IO-related activities on CPU should express themselves as `writev` and `fclose` system calls\n",
    "</details>"
   ]
  },
  {
   "cell_type": "markdown",
   "metadata": {},
   "source": [
    "Open this section only after you’ve made a serious attempt at solving the problem. Once you’ve completed your solution, compare it with the \n",
    "reference provided here to evaluate your approach and identify any potential improvements.\n",
    "\n",
    "<details>\n",
    "  <summary>Solution</summary>\n",
    "\n",
    "  Launch of computation happens on the CPU side:\n",
    "  ![Compute](Images/compute.png \"Compute\")\n",
    "\n",
    "  Data transfer between CPU and GPU can be located in the \"CUDA HW / Memory\" section:\n",
    "\n",
    "  ![Copy](Images/copy.png \"Copy\")\n",
    "\n",
    "  CPU writes data on disk can be found in the \"OS runtime libraries\" section:\n",
    "  ![Write](Images/write.png \"Write\")\n",
    "\n",
    "</details>"
   ]
  },
  {
   "cell_type": "markdown",
   "metadata": {},
   "source": [
    "---\n",
    "Congratulations! Proceed to the [next exercise](02.02.04-Exercise-NVTX.ipynb)."
   ]
  },
  {
   "cell_type": "markdown",
   "metadata": {},
   "source": [
    "<img src=\"Images/nvidia_header.png\" style=\"margin-left: -30px; width: 300px; float: left;\">"
   ]
  }
 ],
 "metadata": {
  "kernelspec": {
   "display_name": "Python 3 (ipykernel)",
   "language": "python",
   "name": "python3"
  },
  "language_info": {
   "codemirror_mode": {
    "name": "ipython",
    "version": 3
   },
   "file_extension": ".py",
   "mimetype": "text/x-python",
   "name": "python",
   "nbconvert_exporter": "python",
   "pygments_lexer": "ipython3",
   "version": "3.10.12"
  }
 },
 "nbformat": 4,
 "nbformat_minor": 4
}
